{
 "cells": [
  {
   "cell_type": "markdown",
   "id": "e79d500c",
   "metadata": {},
   "source": [
    "1. Write a python program to calculate the perimeter and area of a rectangle by taking length and width from the user as input. (2 points)"
   ]
  },
  {
   "cell_type": "code",
   "execution_count": 1,
   "id": "57da7b88",
   "metadata": {},
   "outputs": [
    {
     "name": "stdout",
     "output_type": "stream",
     "text": [
      "Enter length of rectangle: 10\n",
      "Enter width of rectangle: 5\n",
      "The perimeter of rectangle is  30.0\n",
      "The area of rectangle is  50.0\n"
     ]
    }
   ],
   "source": [
    "# gathering length and width as inputs from the user and conversion to float datatype\n",
    "length = float(input('Enter length of rectangle: '))\n",
    "width = float(input('Enter width of rectangle: '))\n",
    "# perimeter of rectangle is 2*(length+width)\n",
    "perimeter_of_rectangle = 2*(length+width)\n",
    "print(\"The perimeter of rectangle is \",perimeter_of_rectangle)\n",
    "# area of rectangle is length*width\n",
    "area_of_rectangle = length*width\n",
    "print(\"The area of rectangle is \", area_of_rectangle)"
   ]
  },
  {
   "cell_type": "markdown",
   "id": "36b64ab3",
   "metadata": {},
   "source": [
    "2. Find the highest two-digit number and lowest three-digit number from the list [105, 25, 652, 40, 843, 118, 99, 679].  (2 points)"
   ]
  },
  {
   "cell_type": "code",
   "execution_count": 10,
   "id": "44f628ef",
   "metadata": {},
   "outputs": [
    {
     "name": "stdout",
     "output_type": "stream",
     "text": [
      "(99, 105)\n"
     ]
    }
   ],
   "source": [
    "def find_highest_lowest_num(my_list):\n",
    "# we create 2 empty list, one with 2-digit numbers and other with 3-digit numbers\n",
    "    two_Digit_List=[]\n",
    "    three_Digit_List=[]\n",
    "    for i in my_list:\n",
    "        if i<100 :\n",
    "            two_Digit_List.append(i)\n",
    "        else:\n",
    "            three_Digit_List.append(i)\n",
    "# we then find the maximum number in 2-digit number list & the minimum number in 3-digit number list\n",
    "    return max(two_Digit_List),min(three_Digit_List)\n",
    "\n",
    "my_list = [105, 25, 652, 40, 843, 118, 99, 679]\n",
    "#function call using argument my_list\n",
    "print (find_highest_lowest_num(my_list))"
   ]
  },
  {
   "cell_type": "markdown",
   "id": "ec4cc49d",
   "metadata": {},
   "source": [
    "3. Write a python program to print the reverse string of 'Zen of Python’."
   ]
  },
  {
   "cell_type": "code",
   "execution_count": 22,
   "id": "abded885",
   "metadata": {},
   "outputs": [
    {
     "name": "stdout",
     "output_type": "stream",
     "text": [
      "Reverse of String: nohtyP fo neZ\n"
     ]
    }
   ],
   "source": [
    "my_string  = 'Zen of Python' \n",
    "print('Reverse of String: ', end=\"\")\n",
    "\n",
    "#using string slicing\n",
    "print(my_string[len(my_string)::-1]) "
   ]
  },
  {
   "cell_type": "markdown",
   "id": "a686d83b",
   "metadata": {},
   "source": [
    "OR"
   ]
  },
  {
   "cell_type": "code",
   "execution_count": 21,
   "id": "56d9e1ae",
   "metadata": {},
   "outputs": [
    {
     "name": "stdout",
     "output_type": "stream",
     "text": [
      "The original string is : Zen of Python\n",
      "The reverse of string is : nohtyP fo neZ\n"
     ]
    }
   ],
   "source": [
    "# Function to reverse a string\n",
    "def reverse_of_string(my_string):\n",
    "#using reversed()\n",
    "    string = \"\".join(reversed(my_string))\n",
    "    return string\n",
    " \n",
    "my_string = \"Zen of Python\"\n",
    " \n",
    "print(\"The original string is : \", end=\"\")\n",
    "print(s)\n",
    " \n",
    "print(\"The reverse of string is : \", end=\"\")\n",
    "print(reverse(my_string))"
   ]
  },
  {
   "cell_type": "markdown",
   "id": "5b7bb530",
   "metadata": {},
   "source": [
    "OR"
   ]
  },
  {
   "cell_type": "code",
   "execution_count": 27,
   "id": "5977fbef",
   "metadata": {},
   "outputs": [
    {
     "name": "stdout",
     "output_type": "stream",
     "text": [
      "nohtyP fo neZ"
     ]
    }
   ],
   "source": [
    "# ---using while loop\n",
    "i = len(my_string) -1\n",
    "while i>=0:\n",
    "    print(my_string[i],end='')\n",
    "    i=i-1"
   ]
  },
  {
   "cell_type": "markdown",
   "id": "96778fdb",
   "metadata": {},
   "source": [
    "OR"
   ]
  },
  {
   "cell_type": "code",
   "execution_count": 35,
   "id": "64f6beb0",
   "metadata": {},
   "outputs": [
    {
     "name": "stdout",
     "output_type": "stream",
     "text": [
      "The original string is : Zen of Python\n",
      "The reverse of string is : nohtyP fo neZ\n"
     ]
    }
   ],
   "source": [
    "# ---using recursion\n",
    "# passing the string as an argument to a recursive function to reverse the string.\n",
    "def stringReverse(my_string):\n",
    "    if len(my_string)==1:\n",
    "        return my_string\n",
    "    return my_string[-1]+ stringReverse(my_string[:-1])\n",
    " \n",
    "my_string = \"Zen of Python\"\n",
    " \n",
    "print(\"The original string is : \", end=\"\")\n",
    "print(s)\n",
    " \n",
    "print(\"The reverse of string is : \", end=\"\")\n",
    "print(stringReverse(my_string))"
   ]
  },
  {
   "cell_type": "markdown",
   "id": "6375d7f2",
   "metadata": {},
   "source": [
    "4. Write a python program to print the numbers that are divisible by 5 or 7 between 50 & 100 both included. (3 points)"
   ]
  },
  {
   "cell_type": "code",
   "execution_count": 37,
   "id": "1441e760",
   "metadata": {},
   "outputs": [
    {
     "name": "stdout",
     "output_type": "stream",
     "text": [
      "50\n",
      "55\n",
      "56\n",
      "60\n",
      "63\n",
      "65\n",
      "70\n",
      "75\n",
      "77\n",
      "80\n",
      "84\n",
      "85\n",
      "90\n",
      "91\n",
      "95\n",
      "98\n",
      "100\n"
     ]
    }
   ],
   "source": [
    "#using for loop to create a range a numbers from 50 to 100\n",
    "for i in range(50,101):\n",
    "#condition to check the divisibility by either 5 or 7\n",
    "    if i%5 == 0 or i%7 == 0:\n",
    "        print(i)"
   ]
  },
  {
   "cell_type": "markdown",
   "id": "523cb880",
   "metadata": {},
   "source": [
    "5. Get input from the user and print the multiple of that number from 1 to 10.  (2 points)"
   ]
  },
  {
   "cell_type": "code",
   "execution_count": 38,
   "id": "55b20288",
   "metadata": {},
   "outputs": [
    {
     "name": "stdout",
     "output_type": "stream",
     "text": [
      "Enter a number: 25\n",
      "1 * 25.0 = 25.0\n",
      "2 * 25.0 = 50.0\n",
      "3 * 25.0 = 75.0\n",
      "4 * 25.0 = 100.0\n",
      "5 * 25.0 = 125.0\n",
      "6 * 25.0 = 150.0\n",
      "7 * 25.0 = 175.0\n",
      "8 * 25.0 = 200.0\n",
      "9 * 25.0 = 225.0\n",
      "10 * 25.0 = 250.0\n"
     ]
    }
   ],
   "source": [
    "# taking the input from the user and convert it to float datatype\n",
    "number = float(input('Enter a number: '))\n",
    "# using for loop to print the multiples of the entered number\n",
    "for i in range(1,11):\n",
    "    print(i,'*',number,'=',i*number)"
   ]
  },
  {
   "cell_type": "markdown",
   "id": "5a62db99",
   "metadata": {},
   "source": [
    "6. Write a python program to fetch all the vowels from the string 'Manchester'.(2 points)"
   ]
  },
  {
   "cell_type": "code",
   "execution_count": 1,
   "id": "185d4959",
   "metadata": {},
   "outputs": [
    {
     "name": "stdout",
     "output_type": "stream",
     "text": [
      "['a', 'e', 'e']\n"
     ]
    }
   ],
   "source": [
    "#defining a function that checks vowels in a given string\n",
    "def Check_Vowels(my_string, vowels):\n",
    "    final_vowel_list = []\n",
    "    for letter in my_string.lower():\n",
    "        for vowel in vowels:\n",
    "            if letter == vowel:\n",
    "                final_vowel_list.append(letter)\n",
    "    print(final_vowel_list)\n",
    "     \n",
    "#calling the function with the arguments\n",
    "my_string = \"Manchester\"\n",
    "vowels = \"aeiou\"\n",
    "Check_Vowels(my_string, vowels)"
   ]
  },
  {
   "cell_type": "markdown",
   "id": "a2045923",
   "metadata": {},
   "source": [
    "OR"
   ]
  },
  {
   "cell_type": "code",
   "execution_count": 2,
   "id": "e297e2b4",
   "metadata": {},
   "outputs": [
    {
     "name": "stdout",
     "output_type": "stream",
     "text": [
      "a,e,e,"
     ]
    }
   ],
   "source": [
    "my_string = \"Manchester\"\n",
    "for letter in my_string:\n",
    "    if letter in ('a', 'e', 'i', 'o', 'u'):\n",
    "        print (letter, end = ',')"
   ]
  },
  {
   "cell_type": "markdown",
   "id": "bf4051fb",
   "metadata": {},
   "source": [
    "7. Write a python program to output a number that is divisible by 6 and is as close to 78 as possible using exhaustive enumeration. (2 points)"
   ]
  },
  {
   "cell_type": "code",
   "execution_count": 64,
   "id": "3d1d6456",
   "metadata": {},
   "outputs": [
    {
     "name": "stdout",
     "output_type": "stream",
     "text": [
      "The number that is divisible by 6 and is as close to 78 as possible is  78\n"
     ]
    }
   ],
   "source": [
    "# using exhaustive enumeration to find the numbers divisible by 6 and closest to 78\n",
    "num=78\n",
    "i=0\n",
    "while i<78:\n",
    "    if (num-i)%6==0:\n",
    "        print(\"The number that is divisible by 6 and is as close to 78 as possible is \",num-i)\n",
    "        break\n",
    "    elif (num+i)%6==0:\n",
    "        print(\"The number that is divisible by 6 and is as close to 78 as possible is \",num+i)\n",
    "        break\n",
    "    i=i+1  "
   ]
  },
  {
   "cell_type": "markdown",
   "id": "17e97b57",
   "metadata": {},
   "source": [
    "8. Write a python function that sorts the number in the given list in descending order without using a built-in function. The output should print the sorted list. Write additional statements that call this function and pass the list [3, 6, 1, 33, 8, 93, 2, 4, 6, 4]. (3 points)"
   ]
  },
  {
   "cell_type": "code",
   "execution_count": 7,
   "id": "be4725f1",
   "metadata": {},
   "outputs": [
    {
     "name": "stdout",
     "output_type": "stream",
     "text": [
      "[1, 2, 3, 4, 4, 6, 6, 8, 33, 93]\n"
     ]
    }
   ],
   "source": [
    "# defining a function to sort the numbers in a list\n",
    "def sort_Numbers(unsorted_List):\n",
    "    sorted_List = []\n",
    "    while unsorted_List:\n",
    "        min_Elem = unsorted_List[0]\n",
    "        for i in unsorted_List:\n",
    "            if i < min_Elem:\n",
    "                min_Elem = i\n",
    "        sorted_List.append(min_Elem)\n",
    "        unsorted_List.remove(min_Elem)\n",
    "    return sorted_List\n",
    "my_list = [3, 6, 1, 33, 8, 93, 2, 4, 6, 4]\n",
    "# calling the function\n",
    "print(sort_Numbers(my_list))"
   ]
  },
  {
   "cell_type": "markdown",
   "id": "222cd385",
   "metadata": {},
   "source": [
    "9. Create a list with the values – (2 points)\n",
    "   ‘Informatics', ‘Data Science', ’Nursing', ‘Pharmacy', 'Dentistry', 'Marketing'\n",
    "\n",
    "a) Print the second item in the list.\n",
    "b) Find the index of 'Pharmacy' in list."
   ]
  },
  {
   "cell_type": "code",
   "execution_count": 4,
   "id": "8f3044ff",
   "metadata": {},
   "outputs": [
    {
     "name": "stdout",
     "output_type": "stream",
     "text": [
      "The second item in my list is  Data Science\n",
      "3\n"
     ]
    }
   ],
   "source": [
    "#creating a list with given values\n",
    "my_list = ['Informatics', 'Data Science', 'Nursing', 'Pharmacy', 'Dentistry', 'Marketing']\n",
    "#fetching the 2nd item in my_list\n",
    "print(\"The second item in my list is \", my_list[1])\n",
    "#finding idex of 'Pharmacy' in my_list\n",
    "index=0\n",
    "for i in my_list:\n",
    "    if i == 'Pharmacy':\n",
    "        print(index)\n",
    "        break\n",
    "    index+=1"
   ]
  },
  {
   "cell_type": "markdown",
   "id": "f2cfd3b5",
   "metadata": {},
   "source": [
    "OR"
   ]
  },
  {
   "cell_type": "code",
   "execution_count": 5,
   "id": "cfaf7644",
   "metadata": {},
   "outputs": [
    {
     "name": "stdout",
     "output_type": "stream",
     "text": [
      "The index of Pharmacy in my_list is  3\n"
     ]
    }
   ],
   "source": [
    "#another way of finding the index of 'Pharmacy'\n",
    "print(\"The index of Pharmacy in my_list is \", my_list.index('Pharmacy'))"
   ]
  }
 ],
 "metadata": {
  "kernelspec": {
   "display_name": "Python 3 (ipykernel)",
   "language": "python",
   "name": "python3"
  },
  "language_info": {
   "codemirror_mode": {
    "name": "ipython",
    "version": 3
   },
   "file_extension": ".py",
   "mimetype": "text/x-python",
   "name": "python",
   "nbconvert_exporter": "python",
   "pygments_lexer": "ipython3",
   "version": "3.10.6"
  }
 },
 "nbformat": 4,
 "nbformat_minor": 5
}
