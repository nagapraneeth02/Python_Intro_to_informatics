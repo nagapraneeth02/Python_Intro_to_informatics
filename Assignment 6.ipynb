{
 "cells": [
  {
   "cell_type": "markdown",
   "id": "95cacadc-2034-4411-90c9-b62969142d73",
   "metadata": {},
   "source": [
    "1. Create a data frame by reading the CSV file stu_scores into Python. Then, complete the following actions: (5 points)\n",
    "\n",
    "a) How many rows and columns are there in the data frame, use shape command. Examine the data frame carefully and don't include the data frame title in your answer.\n",
    "b) Create a new column named ’Percentage' that calculates the percentage of 'Score' column based on maximum score being 70. Use lambda function to create the percentage values.\n",
    "c) Print the mean, median, variance, standard deviation, minimum and maximum  for the ’Percentage' column from the data frame for each of the departments available.\n",
    "d) Get all the details of the Student with the highest ’Percentage' value from the data frame."
   ]
  },
  {
   "cell_type": "code",
   "execution_count": 2,
   "id": "51f6a063-aedf-4161-8b4d-a2c1790a9b03",
   "metadata": {},
   "outputs": [],
   "source": [
    "import pandas as pd"
   ]
  },
  {
   "cell_type": "code",
   "execution_count": 4,
   "id": "47844cbb-6e52-49dc-b9d9-4e115f30c4ab",
   "metadata": {},
   "outputs": [
    {
     "data": {
      "text/html": [
       "<div>\n",
       "<style scoped>\n",
       "    .dataframe tbody tr th:only-of-type {\n",
       "        vertical-align: middle;\n",
       "    }\n",
       "\n",
       "    .dataframe tbody tr th {\n",
       "        vertical-align: top;\n",
       "    }\n",
       "\n",
       "    .dataframe thead th {\n",
       "        text-align: right;\n",
       "    }\n",
       "</style>\n",
       "<table border=\"1\" class=\"dataframe\">\n",
       "  <thead>\n",
       "    <tr style=\"text-align: right;\">\n",
       "      <th></th>\n",
       "      <th>Name</th>\n",
       "      <th>Score</th>\n",
       "      <th>Department</th>\n",
       "    </tr>\n",
       "  </thead>\n",
       "  <tbody>\n",
       "    <tr>\n",
       "      <th>0</th>\n",
       "      <td>Emily</td>\n",
       "      <td>43</td>\n",
       "      <td>Marketing</td>\n",
       "    </tr>\n",
       "    <tr>\n",
       "      <th>1</th>\n",
       "      <td>James</td>\n",
       "      <td>55</td>\n",
       "      <td>Sales</td>\n",
       "    </tr>\n",
       "    <tr>\n",
       "      <th>2</th>\n",
       "      <td>Sophia</td>\n",
       "      <td>68</td>\n",
       "      <td>IT</td>\n",
       "    </tr>\n",
       "    <tr>\n",
       "      <th>3</th>\n",
       "      <td>William</td>\n",
       "      <td>34</td>\n",
       "      <td>HR</td>\n",
       "    </tr>\n",
       "    <tr>\n",
       "      <th>4</th>\n",
       "      <td>Olivia</td>\n",
       "      <td>59</td>\n",
       "      <td>Finance</td>\n",
       "    </tr>\n",
       "  </tbody>\n",
       "</table>\n",
       "</div>"
      ],
      "text/plain": [
       "      Name  Score Department\n",
       "0    Emily     43  Marketing\n",
       "1    James     55      Sales\n",
       "2   Sophia     68         IT\n",
       "3  William     34         HR\n",
       "4   Olivia     59    Finance"
      ]
     },
     "execution_count": 4,
     "metadata": {},
     "output_type": "execute_result"
    }
   ],
   "source": [
    "student_scores = [\n",
    "    [\"Emily\", 43, \"Marketing\"],\n",
    "    [\"James\", 55, \"Sales\"],\n",
    "    [\"Sophia\", 68, \"IT\"],\n",
    "    [\"William\", 34, \"HR\"],\n",
    "    [\"Olivia\", 59, \"Finance\"],\n",
    "    [\"Benjamin\", 47, \"Marketing\"],\n",
    "    [\"Mia\", 40, \"Sales\"],\n",
    "    [\"Samuel\", 60, \"IT\"],\n",
    "    [\"Ava\", 30, \"HR\"],\n",
    "    [\"Ethan\", 65, \"Finance\"],\n",
    "    [\"Chloe\", 54, \"Marketing\"],\n",
    "    [\"Michael\", 45, \"Sales\"],\n",
    "    [\"Harper\", 61, \"IT\"],\n",
    "    [\"Daniel\", 26, \"HR\"],\n",
    "    [\"Grace\", 70, \"Finance\"],\n",
    "    [\"Emma\", 37, \"Marketing\"],\n",
    "    [\"Alexander\", 64, \"Sales\"],\n",
    "    [\"Mia\", 28, \"IT\"],\n",
    "    [\"Oliver\", 52, \"HR\"],\n",
    "    [\"Abigail\", 69, \"Finance\"],\n",
    "    [\"Noah\", 32, \"Marketing\"],\n",
    "    [\"Lily\", 58, \"Sales\"],\n",
    "    [\"Liam\", 27, \"IT\"],\n",
    "    [\"Ella\", 67, \"HR\"],\n",
    "    [\"Isabella\", 35, \"Finance\"]\n",
    "]\n",
    "\n",
    "# Creating the dataframe\n",
    "columns = [\"Name\", \"Score\", \"Department\"]\n",
    "df = pd.DataFrame(student_scores, columns=columns)\n",
    "\n",
    "# Verifying the dataframe\n",
    "df.head()"
   ]
  },
  {
   "cell_type": "code",
   "execution_count": 7,
   "id": "2541438c-a229-46ca-b7ef-dc9211687c4e",
   "metadata": {},
   "outputs": [
    {
     "data": {
      "text/plain": [
       "(25, 3)"
      ]
     },
     "execution_count": 7,
     "metadata": {},
     "output_type": "execute_result"
    }
   ],
   "source": [
    "#count the number of rows and colums in the dataframe\n",
    "\n",
    "df.shape"
   ]
  },
  {
   "cell_type": "markdown",
   "id": "f715df07-ef37-4647-9b44-14d88f91f46e",
   "metadata": {},
   "source": [
    "The dataframe has 25 rows and 3 columns"
   ]
  },
  {
   "cell_type": "code",
   "execution_count": 10,
   "id": "3f6fdd8d-d35b-4804-b693-7ab189b85b23",
   "metadata": {},
   "outputs": [
    {
     "data": {
      "text/html": [
       "<div>\n",
       "<style scoped>\n",
       "    .dataframe tbody tr th:only-of-type {\n",
       "        vertical-align: middle;\n",
       "    }\n",
       "\n",
       "    .dataframe tbody tr th {\n",
       "        vertical-align: top;\n",
       "    }\n",
       "\n",
       "    .dataframe thead th {\n",
       "        text-align: right;\n",
       "    }\n",
       "</style>\n",
       "<table border=\"1\" class=\"dataframe\">\n",
       "  <thead>\n",
       "    <tr style=\"text-align: right;\">\n",
       "      <th></th>\n",
       "      <th>Name</th>\n",
       "      <th>Score</th>\n",
       "      <th>Department</th>\n",
       "      <th>Percentage</th>\n",
       "    </tr>\n",
       "  </thead>\n",
       "  <tbody>\n",
       "    <tr>\n",
       "      <th>0</th>\n",
       "      <td>Emily</td>\n",
       "      <td>43</td>\n",
       "      <td>Marketing</td>\n",
       "      <td>61.428571</td>\n",
       "    </tr>\n",
       "    <tr>\n",
       "      <th>1</th>\n",
       "      <td>James</td>\n",
       "      <td>55</td>\n",
       "      <td>Sales</td>\n",
       "      <td>78.571429</td>\n",
       "    </tr>\n",
       "    <tr>\n",
       "      <th>2</th>\n",
       "      <td>Sophia</td>\n",
       "      <td>68</td>\n",
       "      <td>IT</td>\n",
       "      <td>97.142857</td>\n",
       "    </tr>\n",
       "    <tr>\n",
       "      <th>3</th>\n",
       "      <td>William</td>\n",
       "      <td>34</td>\n",
       "      <td>HR</td>\n",
       "      <td>48.571429</td>\n",
       "    </tr>\n",
       "    <tr>\n",
       "      <th>4</th>\n",
       "      <td>Olivia</td>\n",
       "      <td>59</td>\n",
       "      <td>Finance</td>\n",
       "      <td>84.285714</td>\n",
       "    </tr>\n",
       "  </tbody>\n",
       "</table>\n",
       "</div>"
      ],
      "text/plain": [
       "      Name  Score Department  Percentage\n",
       "0    Emily     43  Marketing   61.428571\n",
       "1    James     55      Sales   78.571429\n",
       "2   Sophia     68         IT   97.142857\n",
       "3  William     34         HR   48.571429\n",
       "4   Olivia     59    Finance   84.285714"
      ]
     },
     "execution_count": 10,
     "metadata": {},
     "output_type": "execute_result"
    }
   ],
   "source": [
    "# Creating the percentage column\n",
    "\n",
    "df['Percentage'] = df['Score'].apply(lambda x: (x/70)*100)\n",
    "\n",
    "df.head()"
   ]
  },
  {
   "cell_type": "code",
   "execution_count": 11,
   "id": "e2f0e4ee-7ae7-4065-a274-e5c7c1a33102",
   "metadata": {},
   "outputs": [
    {
     "data": {
      "text/html": [
       "<div>\n",
       "<style scoped>\n",
       "    .dataframe tbody tr th:only-of-type {\n",
       "        vertical-align: middle;\n",
       "    }\n",
       "\n",
       "    .dataframe tbody tr th {\n",
       "        vertical-align: top;\n",
       "    }\n",
       "\n",
       "    .dataframe thead th {\n",
       "        text-align: right;\n",
       "    }\n",
       "</style>\n",
       "<table border=\"1\" class=\"dataframe\">\n",
       "  <thead>\n",
       "    <tr style=\"text-align: right;\">\n",
       "      <th></th>\n",
       "      <th>mean</th>\n",
       "      <th>median</th>\n",
       "      <th>var</th>\n",
       "      <th>std</th>\n",
       "      <th>min</th>\n",
       "      <th>max</th>\n",
       "    </tr>\n",
       "    <tr>\n",
       "      <th>Department</th>\n",
       "      <th></th>\n",
       "      <th></th>\n",
       "      <th></th>\n",
       "      <th></th>\n",
       "      <th></th>\n",
       "      <th></th>\n",
       "    </tr>\n",
       "  </thead>\n",
       "  <tbody>\n",
       "    <tr>\n",
       "      <th>Finance</th>\n",
       "      <td>85.142857</td>\n",
       "      <td>92.857143</td>\n",
       "      <td>424.081633</td>\n",
       "      <td>20.593242</td>\n",
       "      <td>50.000000</td>\n",
       "      <td>100.000000</td>\n",
       "    </tr>\n",
       "    <tr>\n",
       "      <th>HR</th>\n",
       "      <td>59.714286</td>\n",
       "      <td>48.571429</td>\n",
       "      <td>606.530612</td>\n",
       "      <td>24.627842</td>\n",
       "      <td>37.142857</td>\n",
       "      <td>95.714286</td>\n",
       "    </tr>\n",
       "    <tr>\n",
       "      <th>IT</th>\n",
       "      <td>69.714286</td>\n",
       "      <td>85.714286</td>\n",
       "      <td>791.224490</td>\n",
       "      <td>28.128713</td>\n",
       "      <td>38.571429</td>\n",
       "      <td>97.142857</td>\n",
       "    </tr>\n",
       "    <tr>\n",
       "      <th>Marketing</th>\n",
       "      <td>60.857143</td>\n",
       "      <td>61.428571</td>\n",
       "      <td>149.591837</td>\n",
       "      <td>12.230774</td>\n",
       "      <td>45.714286</td>\n",
       "      <td>77.142857</td>\n",
       "    </tr>\n",
       "    <tr>\n",
       "      <th>Sales</th>\n",
       "      <td>74.857143</td>\n",
       "      <td>78.571429</td>\n",
       "      <td>194.489796</td>\n",
       "      <td>13.945960</td>\n",
       "      <td>57.142857</td>\n",
       "      <td>91.428571</td>\n",
       "    </tr>\n",
       "  </tbody>\n",
       "</table>\n",
       "</div>"
      ],
      "text/plain": [
       "                 mean     median         var        std        min         max\n",
       "Department                                                                    \n",
       "Finance     85.142857  92.857143  424.081633  20.593242  50.000000  100.000000\n",
       "HR          59.714286  48.571429  606.530612  24.627842  37.142857   95.714286\n",
       "IT          69.714286  85.714286  791.224490  28.128713  38.571429   97.142857\n",
       "Marketing   60.857143  61.428571  149.591837  12.230774  45.714286   77.142857\n",
       "Sales       74.857143  78.571429  194.489796  13.945960  57.142857   91.428571"
      ]
     },
     "execution_count": 11,
     "metadata": {},
     "output_type": "execute_result"
    }
   ],
   "source": [
    "# Calculating statistics for 'Percentage' column for each department\n",
    "\n",
    "grouped = df.groupby('Department')['Percentage'].agg(['mean', 'median', 'var', 'std', 'min', 'max'])\n",
    "\n",
    "grouped"
   ]
  },
  {
   "cell_type": "code",
   "execution_count": 12,
   "id": "3bbbb9b8-6cf6-43cb-af17-24e49864b5d4",
   "metadata": {},
   "outputs": [
    {
     "data": {
      "text/html": [
       "<div>\n",
       "<style scoped>\n",
       "    .dataframe tbody tr th:only-of-type {\n",
       "        vertical-align: middle;\n",
       "    }\n",
       "\n",
       "    .dataframe tbody tr th {\n",
       "        vertical-align: top;\n",
       "    }\n",
       "\n",
       "    .dataframe thead th {\n",
       "        text-align: right;\n",
       "    }\n",
       "</style>\n",
       "<table border=\"1\" class=\"dataframe\">\n",
       "  <thead>\n",
       "    <tr style=\"text-align: right;\">\n",
       "      <th></th>\n",
       "      <th>Name</th>\n",
       "      <th>Score</th>\n",
       "      <th>Department</th>\n",
       "      <th>Percentage</th>\n",
       "    </tr>\n",
       "  </thead>\n",
       "  <tbody>\n",
       "    <tr>\n",
       "      <th>14</th>\n",
       "      <td>Grace</td>\n",
       "      <td>70</td>\n",
       "      <td>Finance</td>\n",
       "      <td>100.0</td>\n",
       "    </tr>\n",
       "  </tbody>\n",
       "</table>\n",
       "</div>"
      ],
      "text/plain": [
       "     Name  Score Department  Percentage\n",
       "14  Grace     70    Finance       100.0"
      ]
     },
     "execution_count": 12,
     "metadata": {},
     "output_type": "execute_result"
    }
   ],
   "source": [
    "# Getting details of the student with the highest 'Percentage' value\n",
    "\n",
    "highest_percentage_student = df[df['Percentage'] == df['Percentage'].max()]\n",
    "\n",
    "highest_percentage_student"
   ]
  },
  {
   "cell_type": "markdown",
   "id": "a5d4beb8-ef71-419d-b730-f1e188e4b2c3",
   "metadata": {},
   "source": [
    "2. Write a Python program that generates a list of 100 random integers between 1 and 50 (exclusive) using the random module. Then, find the mode and standard-deviation values in the list and print them."
   ]
  },
  {
   "cell_type": "code",
   "execution_count": 18,
   "id": "5dbcd763-cc1c-4e35-ad52-5e0f2fad489a",
   "metadata": {},
   "outputs": [],
   "source": [
    "import random\n",
    "from statistics import mode, stdev\n",
    "\n",
    "# Generate a list of 100 random integers between 1 and 50 (inclusive)\n",
    "random_list = [random.randint(1, 50) for i in range(100)]"
   ]
  },
  {
   "cell_type": "code",
   "execution_count": 19,
   "id": "4ded7687-464e-4741-84fb-fb9020c511ef",
   "metadata": {},
   "outputs": [],
   "source": [
    "# Finding the mode and standard deviation values\n",
    "mode_value = mode(random_list)\n",
    "std_dev_value = stdev(random_list)"
   ]
  },
  {
   "cell_type": "code",
   "execution_count": 20,
   "id": "700a4998-7a86-4b6f-aa28-8722a25e809c",
   "metadata": {},
   "outputs": [
    {
     "name": "stdout",
     "output_type": "stream",
     "text": [
      "Mode of the list: 18\n",
      "SD of the list: 14.62272688024164\n"
     ]
    }
   ],
   "source": [
    "# Print the mode and sd\n",
    "print(\"Mode of the list:\", mode_value)\n",
    "print(\"SD of the list:\", std_dev_value)"
   ]
  },
  {
   "cell_type": "markdown",
   "id": "a435a799-bd20-41a7-9bfb-06e4076bc652",
   "metadata": {},
   "source": [
    "3. Write a Python program that uses the random module to generate a list of 1000 integers between 20 and 30 (inclusive). Then, create a histogram using pyplot module to visualize the frequency of each number in the list. Make sure to include appropriate titles and axis labels. (3 points)"
   ]
  },
  {
   "cell_type": "code",
   "execution_count": 21,
   "id": "29b12ddd-c151-4efa-9386-8348eaee17ee",
   "metadata": {},
   "outputs": [],
   "source": [
    "import random\n",
    "import matplotlib.pyplot as plt"
   ]
  },
  {
   "cell_type": "code",
   "execution_count": 22,
   "id": "a6000fc9-2b0d-4162-9313-75e2bdca16ff",
   "metadata": {},
   "outputs": [
    {
     "data": {
      "image/png": "[encoded data removed]",
      "text/plain": [
       "<Figure size 640x480 with 1 Axes>"
      ]
     },
     "metadata": {},
     "output_type": "display_data"
    }
   ],
   "source": [
    "# Generate a list of 1000 random integers between 20 and 30 (inclusive)\n",
    "random_list = [random.randint(20, 30) for i in range(1000)]\n",
    "\n",
    "# Create a histogram using the pyplot module\n",
    "plt.hist(random_list, bins=11, color = 'pink', edgecolor='purple')\n",
    "\n",
    "# Set the title and axis labels\n",
    "plt.title(\"Frequency of each number in the list\")\n",
    "plt.xlabel(\"Number\")\n",
    "plt.ylabel(\"Frequency\")\n",
    "\n",
    "# Show the histogram\n",
    "plt.show()"
   ]
  },
  {
   "cell_type": "markdown",
   "id": "6fe16e16-e28f-4655-9aa0-e8adaa86435f",
   "metadata": {},
   "source": [
    "4. Write a Python program that generates a list of 100 random integers that follow a uniform distribution between 1 and 20 (inclusive). Then, create a dictionary that maps each unique value in the list to its frequency, and calculate the probability of each number using its frequency.("
   ]
  },
  {
   "cell_type": "code",
   "execution_count": 23,
   "id": "27052c85-97f5-4e14-afee-cf29d8fcca25",
   "metadata": {},
   "outputs": [
    {
     "name": "stdout",
     "output_type": "stream",
     "text": [
      "Frequency and probability of each number:\n",
      "1: Frequency = 5, Probability = 0.05\n",
      "2: Frequency = 7, Probability = 0.07\n",
      "3: Frequency = 4, Probability = 0.04\n",
      "4: Frequency = 4, Probability = 0.04\n",
      "5: Frequency = 4, Probability = 0.04\n",
      "6: Frequency = 3, Probability = 0.03\n",
      "7: Frequency = 4, Probability = 0.04\n",
      "8: Frequency = 8, Probability = 0.08\n",
      "9: Frequency = 8, Probability = 0.08\n",
      "10: Frequency = 5, Probability = 0.05\n",
      "11: Frequency = 5, Probability = 0.05\n",
      "12: Frequency = 6, Probability = 0.06\n",
      "13: Frequency = 3, Probability = 0.03\n",
      "14: Frequency = 4, Probability = 0.04\n",
      "15: Frequency = 2, Probability = 0.02\n",
      "16: Frequency = 7, Probability = 0.07\n",
      "17: Frequency = 6, Probability = 0.06\n",
      "18: Frequency = 4, Probability = 0.04\n",
      "19: Frequency = 5, Probability = 0.05\n",
      "20: Frequency = 6, Probability = 0.06\n"
     ]
    }
   ],
   "source": [
    "import random\n",
    "\n",
    "# Generate a list of 100 random integers between 1 and 20 (inclusive)\n",
    "random_list = [random.randint(1, 20) for i in range(100)]\n",
    "\n",
    "# Create a dictionary that maps each unique value in the list to its frequency\n",
    "frequency_dict = {}\n",
    "for num in random_list:\n",
    "    if num in frequency_dict:\n",
    "        frequency_dict[num] += 1\n",
    "    else:\n",
    "        frequency_dict[num] = 1\n",
    "\n",
    "# Calculate the probability of each number using its frequency\n",
    "total_count = len(random_list)\n",
    "probability_dict = {}\n",
    "for num, freq in frequency_dict.items():\n",
    "    probability_dict[num] = freq / total_count\n",
    "\n",
    "# Print the dictionary that maps each unique value to its frequency and probability\n",
    "print(\"Frequency and probability of each number:\")\n",
    "for num in sorted(probability_dict.keys()):\n",
    "    print(f\"{num}: Frequency = {frequency_dict[num]}, Probability = {probability_dict[num]:.2f}\")"
   ]
  },
  {
   "cell_type": "markdown",
   "id": "10be7cec-34b0-4958-88d7-7941150b558d",
   "metadata": {},
   "source": [
    "5. Simulate rolling a fair six-sided die until a 6 is rolled. Write a stochastic program to calculate the number of rolls it took to get a 6, and repeat this simulation 100 times. Create a histogram to visualize the distribution of the number of rolls it takes to get a 6."
   ]
  },
  {
   "cell_type": "code",
   "execution_count": 24,
   "id": "063c27f3-da33-4216-a886-a2c3ad99a019",
   "metadata": {},
   "outputs": [
    {
     "data": {
      "image/png": "[encoded data removed]",
      "text/plain": [
       "<Figure size 640x480 with 1 Axes>"
      ]
     },
     "metadata": {},
     "output_type": "display_data"
    }
   ],
   "source": [
    "def roll_until_six():\n",
    "    \"\"\"Simulate rolling a fair six-sided die until a 6 is rolled.\"\"\"\n",
    "    count = 0\n",
    "    while True:\n",
    "        roll = random.randint(1, 6)\n",
    "        count += 1\n",
    "        if roll == 6:\n",
    "            break\n",
    "    return count\n",
    "\n",
    "# Simulating the process 100 times\n",
    "results = [roll_until_six() for i in range(100)]\n",
    "\n",
    "# Creating the histogram\n",
    "plt.hist(results, bins=range(1, max(results) + 2), edgecolor=\"k\", align='left')\n",
    "plt.title(\"Distribution of Rolls to Get a 6\")\n",
    "plt.xlabel(\"Number of Rolls\")\n",
    "plt.ylabel(\"Frequency\")\n",
    "plt.grid(axis='y')\n",
    "plt.show()"
   ]
  },
  {
   "cell_type": "code",
   "execution_count": null,
   "id": "630954b6-f6ae-465e-ad4b-9751329a7c24",
   "metadata": {},
   "outputs": [],
   "source": []
  }
 ],
 "metadata": {
  "kernelspec": {
   "display_name": "Python 3 (ipykernel)",
   "language": "python",
   "name": "python3"
  },
  "language_info": {
   "codemirror_mode": {
    "name": "ipython",
    "version": 3
   },
   "file_extension": ".py",
   "mimetype": "text/x-python",
   "name": "python",
   "nbconvert_exporter": "python",
   "pygments_lexer": "ipython3",
   "version": "3.10.12"
  }
 },
 "nbformat": 4,
 "nbformat_minor": 5
}
