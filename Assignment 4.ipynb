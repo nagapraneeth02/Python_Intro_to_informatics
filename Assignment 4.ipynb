{
 "cells": [
  {
   "cell_type": "code",
   "execution_count": null,
   "id": "55ea18f2",
   "metadata": {},
   "outputs": [],
   "source": [
    "#Fibonacci Sequence:\n",
    "def fibo(n):\n",
    "    if x <= 1:\n",
    "        return x\n",
    "    else:\n",
    "        return fibo(x-1) + fibo(x-2)\n",
    "\n",
    "print(fibo(8))"
   ]
  },
  {
   "cell_type": "markdown",
   "id": "84ff15a3",
   "metadata": {},
   "source": [
    "a. Exponential Complexity: When the time required to finish an algorithm doubles with each extra input, this is referred to as exponential complexity. The algorithm's runtime climbs exponentially with each additional input element. This is a slow and inefficient algorithm that should be avoided whenever possible.\n",
    "\n",
    "Time Complexity: Because the function recursively calls itself twice with smaller inputs until it reaches the base cases, the time complexity of the preceding code is exponential with respect to the input size n. Each recursive call branches into two further calls, resulting in a binary tree with depth n of recursive calls. As a result, the number of function calls increases exponentially with n, yielding a temporal complexity of O(2^n). For big values of n, this can be computationally expensive because the number of function calls and time necessary to compute the result grows rapidly. Nonetheless, for small values of n, the function can be quickly executed."
   ]
  },
  {
   "cell_type": "code",
   "execution_count": 23,
   "id": "a490d61d",
   "metadata": {},
   "outputs": [
    {
     "name": "stdout",
     "output_type": "stream",
     "text": [
      "True\n",
      "False\n"
     ]
    }
   ],
   "source": [
    "def binarySearch(arr, final):\n",
    "    L = 0\n",
    "    R = len(arr) - 1\n",
    "    F = False\n",
    "    \n",
    "    while L <= R and not F:\n",
    "        mid = (L + R) // 2\n",
    "        if arr[mid] == final:\n",
    "            F = True\n",
    "        else:\n",
    "            if final < arr[mid]:\n",
    "                R = mid - 1\n",
    "            else:\n",
    "                L = mid + 1\n",
    "                \n",
    "    return F\n",
    "\n",
    "array = [1, 4, 3, 5, 7, 8, 9]\n",
    "print(binarySearch(array, 5))  \n",
    "print(binarySearch(array, 2)) \n"
   ]
  },
  {
   "cell_type": "markdown",
   "id": "7492bfd0",
   "metadata": {},
   "source": [
    "b. Log-linear n(log n) complexity: With the size of the input data, an algorithm's execution time grows logarithmically, which is known as log-linear \"n(log n)\" complexity. The time complexity of the binary search algorithm is O(log n), where n is the size of the input array. It continually divides the array in half to locate the desired element, producing a logarithmic growth rate."
   ]
  },
  {
   "cell_type": "code",
   "execution_count": 9,
   "id": "f02472b0",
   "metadata": {},
   "outputs": [
    {
     "name": "stdout",
     "output_type": "stream",
     "text": [
      "2025\n"
     ]
    }
   ],
   "source": [
    "def polynomial(n):\n",
    "    fin = 0\n",
    "    for m in range(n):\n",
    "        for k in range(n):\n",
    "            fin += m * k\n",
    "    return fin\n",
    "\n",
    "print(polynomial(10))"
   ]
  },
  {
   "cell_type": "markdown",
   "id": "01ddd195",
   "metadata": {},
   "source": [
    "c. Polynomial complexity: When the time required to perform a technique grows polynomially with the size of the input data, this is referred to as polynomial complexity.\n",
    "\n",
    "Time Complexity: The above code has an O(n^2) time complexity because it employs nested loops to traverse through all pairs of integers i and j from 0 to n-1. The inner loop iterates n times for each value of I totaling n^2 iterations."
   ]
  },
  {
   "cell_type": "code",
   "execution_count": 20,
   "id": "83edfffb",
   "metadata": {},
   "outputs": [
    {
     "name": "stdout",
     "output_type": "stream",
     "text": [
      "True\n"
     ]
    }
   ],
   "source": [
    "#2\n",
    "def palindrome(abc):\n",
    "    c = len(abc)\n",
    "    for a in range(c//2):\n",
    "        if abc[a] != abc[c-a-1]:\n",
    "            return False\n",
    "    return True\n",
    "print(palindrome(\"WOW\"))"
   ]
  },
  {
   "cell_type": "markdown",
   "id": "765fb48b",
   "metadata": {},
   "source": [
    "We go through the first half of the string in the above algorithm comparing each character to its equivalent character in the second half of the string. If two characters do not match at any point, we immediately return False, indicating that the string is not a palindrome. We return True if all pairs of characters match, indicating that the string is a palindrome. This is an example of linear complexity."
   ]
  },
  {
   "cell_type": "code",
   "execution_count": 16,
   "id": "34c89491",
   "metadata": {},
   "outputs": [
    {
     "name": "stdout",
     "output_type": "stream",
     "text": [
      "True\n"
     ]
    }
   ],
   "source": [
    "def palindrome_constant(string):\n",
    "    return string == string[::-1]\n",
    "print(palindrome_constant(\"MOM\"))"
   ]
  },
  {
   "cell_type": "markdown",
   "id": "2d0875de",
   "metadata": {},
   "source": [
    "In the above procedure, we reverse the string and compare it to the original string using Python's built-in slicing syntax. We return True if both are the same, indicating that the string is a palindrome. We return False if the string is not a palindrome."
   ]
  },
  {
   "cell_type": "markdown",
   "id": "f34e1ad1",
   "metadata": {},
   "source": [
    "#3\n",
    "#Block 1\n",
    "\n",
    "The power function in Block 1 has a logarithmic time complexity O(log n), where n is the exponent value. To determine the power of an integer, this algorithm use a recursive technique. If the exponent value is zero, the outcome is 1. If the exponent is even, it recursively executes the power function with the parameters x*x and n/2. Otherwise, it calls the power function recursively with the variables x*x and (n-1)/2.\n",
    "\n",
    "#Block 2\n",
    "    \n",
    "The fun function in Block 2 has a linear time complexity O(M^2), where M is the input argument. This algorithm iterates over the range of values from 1 to M using nested loops. The outer loop repeats M times, whereas the inner loop repeats 2 times. As a result, the total number of iterations is 2*M.\n",
    "\n",
    "#Block 3\n",
    "\n",
    "The power function in Block 3 has an exponential time complexity is O(n), where n is the exponent value. To determine the power of an integer, this algorithm use a recursive technique. If the exponent value is 0, the outcome is 1. Otherwise, it calls the power function recursively using the variables x and n-1.\n",
    "\n",
    "Overall time complexity:\n",
    "The three blocks' total time complexity is equal to the sum of their individual time complexity, or O(log n) + O(M) + O(n). In other words, the most time-consuming section of code within a function determines the method's overall time complexity. The block with the highest time complexity in this scenario is Block 3, which is O(n). The function that is made up of all three blocks of code has an overall time complexity of O(n)."
   ]
  }
 ],
 "metadata": {
  "kernelspec": {
   "display_name": "Python 3 (ipykernel)",
   "language": "python",
   "name": "python3"
  },
  "language_info": {
   "codemirror_mode": {
    "name": "ipython",
    "version": 3
   },
   "file_extension": ".py",
   "mimetype": "text/x-python",
   "name": "python",
   "nbconvert_exporter": "python",
   "pygments_lexer": "ipython3",
   "version": "3.9.13"
  }
 },
 "nbformat": 4,
 "nbformat_minor": 5
}
