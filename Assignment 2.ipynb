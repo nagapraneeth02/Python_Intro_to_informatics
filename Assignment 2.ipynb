{
 "cells": [
  {
   "cell_type": "markdown",
   "id": "2b98e8f0",
   "metadata": {},
   "source": [
    "1. Calculate the following using the Python Standard Libraries (2 points)\n",
    "A) Mean of the list [3,4,2,5,4,5,4,7,6,4,2]\n",
    "B) The Square Root of 64\n",
    "C) Return the Log value of 40\n",
    "D) Print the Tangent of π/3"
   ]
  },
  {
   "cell_type": "code",
   "execution_count": 4,
   "id": "291ba914",
   "metadata": {},
   "outputs": [
    {
     "name": "stdout",
     "output_type": "stream",
     "text": [
      "Mean of the list is 4.181818181818182\n",
      "Square Root of 64 is 8.0\n",
      "Log value of 40 is 3.6888794541139363\n",
      "Tangent of pi/3 is 1.7320508075688767\n"
     ]
    }
   ],
   "source": [
    "#importing the required python standard libraries\n",
    "# importing \"math\" for mathematical operations \n",
    "import math\n",
    "import statistics\n",
    "print('Mean of the list is',statistics.mean([3,4,2,5,4,5,4,7,6,4,2]))\n",
    "print('Square Root of 64 is',math.sqrt(64))\n",
    "print('Log value of 40 is',math.log(40))\n",
    "a = math.pi/3\n",
    "#returning the value of tangent of pi/3 \n",
    "print('Tangent of pi/3 is',math.tan(a))"
   ]
  },
  {
   "cell_type": "markdown",
   "id": "a52e4371",
   "metadata": {},
   "source": [
    "2. Download the given file (original.txt), upload it on jupyterhub. Using Python, read the paragraph in the text file and print the number of occurrences of ‘but'. Replace all the occurrences of ‘but' with ’still' and write the modified paragraph to a text file named ‘correction.txt'. Now print the contents of the updated file. (2 points)"
   ]
  },
  {
   "cell_type": "code",
   "execution_count": 13,
   "id": "b3c1832e",
   "metadata": {},
   "outputs": [
    {
     "name": "stdout",
     "output_type": "stream",
     "text": [
      "The number of occurrences of 'but': 2\n",
      "The contents of the updated file:\n",
      "There are plenty of places in the world, still she wants to go to Maldives for her birthday. Initially, she was inclined towards London, still she changed her mind because it was expensive.\n"
     ]
    }
   ],
   "source": [
    "# Read the original file and count the number of occurrences of 'but'\n",
    "with open(\"original.txt\", \"r\") as file:\n",
    "    paragraph = file.read()\n",
    "    count = paragraph.count(\"but\")\n",
    "    print(\"The number of occurrences of 'but':\", count)\n",
    "\n",
    "# Replace all occurrences of 'but' with 'still'\n",
    "paragraph = paragraph.replace(\"but\", \"still\")\n",
    "\n",
    "# Write the modified paragraph to the correction file\n",
    "with open(\"correction.txt\", \"w\") as file:\n",
    "    file.write(paragraph)\n",
    "\n",
    "# Print the contents of the updated file\n",
    "with open(\"correction.txt\", \"r\") as file:\n",
    "    print(\"The contents of the updated file:\")\n",
    "    print(file.read())\n",
    "    file.close()"
   ]
  },
  {
   "cell_type": "markdown",
   "id": "68583d6e",
   "metadata": {},
   "source": [
    "3. Using list comprehension, create a list of numbers that are divisible by 3 and has 6 in them (eg: 36, 66) between the range of 50 to 500. (2 points) "
   ]
  },
  {
   "cell_type": "code",
   "execution_count": 15,
   "id": "b8d896fb",
   "metadata": {},
   "outputs": [
    {
     "name": "stdout",
     "output_type": "stream",
     "text": [
      "[60, 63, 66, 69, 96, 126, 156, 162, 165, 168, 186, 216, 246, 261, 264, 267, 276, 306, 336, 360, 363, 366, 369, 396, 426, 456, 462, 465, 468, 486]\n"
     ]
    }
   ],
   "source": [
    "numbers_list = [num for num in range(50, 501) if num % 3 == 0 and \"6\" in str(num)]\n",
    "print(numbers_list)"
   ]
  },
  {
   "cell_type": "markdown",
   "id": "f8f942e8",
   "metadata": {},
   "source": [
    "4.Write a python program to create the dictionary ‘Mercury': ’01', ‘Venus': ’02', ‘Earth’: ’03', 'Mars’: ’04', ‘Jupiter’: ’05' and do the following. (2 points)\n",
    "\n",
    "\n",
    "1.Print all the keys  and values.\n",
    "2.Add 'Saturn': ’06' to the dictionary.\n",
    "3.Update the value of Earth to ‘3'.\n",
    "4.Get the value for the key ‘Jupiter’."
   ]
  },
  {
   "cell_type": "code",
   "execution_count": 16,
   "id": "38f72b7b",
   "metadata": {},
   "outputs": [
    {
     "name": "stdout",
     "output_type": "stream",
     "text": [
      "All keys and values:\n",
      "Mercury: 01\n",
      "Venus: 02\n",
      "Earth: 03\n",
      "Mars: 04\n",
      "Jupiter: 05\n",
      "Value for the key 'Jupiter': 05\n"
     ]
    }
   ],
   "source": [
    "planets = {'Mercury': '01', 'Venus': '02', 'Earth': '03', 'Mars': '04', 'Jupiter': '05'}\n",
    "\n",
    "# print all keys and values\n",
    "print(\"All keys and values:\")\n",
    "for key, value in planets.items():\n",
    "  print(f\"{key}: {value}\")\n",
    "\n",
    "# add 'Saturn': '06' to the dictionary\n",
    "planets['Saturn'] = '06'\n",
    "\n",
    "# update the value of Earth to '3'\n",
    "planets['Earth'] = '3'\n",
    "\n",
    "# get the value for the key 'Jupiter'\n",
    "jupiter_value = planets['Jupiter']\n",
    "print(f\"Value for the key 'Jupiter': {jupiter_value}\")"
   ]
  },
  {
   "cell_type": "markdown",
   "id": "828add61",
   "metadata": {},
   "source": [
    "5.Write a function that takes a list as an input and returns a list of unique values and a list of all duplicates. Print the list of unique and duplicate values by calling the function with the list [5,2,3,4,7,2,6,5,3,2,9] (2 points)"
   ]
  },
  {
   "cell_type": "code",
   "execution_count": 18,
   "id": "5a26c1d6",
   "metadata": {},
   "outputs": [
    {
     "name": "stdout",
     "output_type": "stream",
     "text": [
      "Unique values: [5, 2, 3, 4, 7, 6, 9]\n",
      "Duplicate values: [2, 5, 3, 2]\n"
     ]
    }
   ],
   "source": [
    "#defining a function find_unique_and_duplicates that takes a list of numbers as an input and returns two lists: one containing unique values and one containing duplicates.\n",
    "def find_unique_and_duplicates(numbers):\n",
    "    unique_list = []\n",
    "    duplicate_list = []\n",
    "    for num in numbers:\n",
    "        if num not in unique_list:\n",
    "            unique_list.append(num)\n",
    "        else:\n",
    "            duplicate_list.append(num)\n",
    "    return unique_list, duplicate_list\n",
    "#calling the function\n",
    "unique, duplicates = find_unique_and_duplicates([5, 2, 3, 4, 7, 2, 6, 5, 3, 2, 9])\n",
    "print(\"Unique values:\", unique)\n",
    "print(\"Duplicate values:\", duplicates)"
   ]
  },
  {
   "cell_type": "markdown",
   "id": "daab792b",
   "metadata": {},
   "source": [
    "6.Create a tuple with values - \"My\", 1, “visit\", “to”, “Chicago\" and print the first three elements using the for loop (2 points)"
   ]
  },
  {
   "cell_type": "code",
   "execution_count": 21,
   "id": "89403d8a",
   "metadata": {},
   "outputs": [
    {
     "name": "stdout",
     "output_type": "stream",
     "text": [
      "The first three elements of the tuple are:\n",
      "My\n",
      "1\n",
      "visit\n"
     ]
    }
   ],
   "source": [
    "#creating a tuple with given values\n",
    "my_tuple = (\"My\", 1, \"visit\", \"to\", \"Chicago\")\n",
    "\n",
    "#print the first three elements using the for loop \n",
    "print(\"The first three elements of the tuple are:\")\n",
    "for elements in range(3):\n",
    "    print(my_tuple[elements])"
   ]
  },
  {
   "cell_type": "markdown",
   "id": "c1a38969",
   "metadata": {},
   "source": [
    "7.Write a python program that finds the cube root (approximate solution) of 410 using Bisection search. (2 points)"
   ]
  },
  {
   "cell_type": "code",
   "execution_count": 22,
   "id": "00a28589",
   "metadata": {},
   "outputs": [
    {
     "name": "stdout",
     "output_type": "stream",
     "text": [
      "The cube root of 410 is approximately 7.428927421569824, calculated in 20 guesses.\n"
     ]
    }
   ],
   "source": [
    "#defining function cube_root that takes a number x as an input \n",
    "def cube_root(x):\n",
    "    low = 0\n",
    "    high = x\n",
    "    epsilon = 0.01\n",
    "    guess = (low + high) / 2\n",
    "    num_guesses = 0\n",
    "    while abs(guess**3 - x) >= epsilon:\n",
    "        if guess**3 < x:\n",
    "            low = guess\n",
    "        else:\n",
    "            high = guess\n",
    "        guess = (low + high) / 2\n",
    "        num_guesses += 1\n",
    "    return guess, num_guesses\n",
    "\n",
    "x = 410\n",
    "result, num_guesses = cube_root(x)\n",
    "print(f\"The cube root of {x} is approximately {result}, calculated in {num_guesses} guesses.\")"
   ]
  },
  {
   "cell_type": "markdown",
   "id": "27bb6f40",
   "metadata": {},
   "source": [
    "8. Create a list of words that start with the letter ‘w' from the string \"How much wood would a woodchuck chuck”. (2 points)"
   ]
  },
  {
   "cell_type": "code",
   "execution_count": 26,
   "id": "0edf9e98",
   "metadata": {},
   "outputs": [
    {
     "name": "stdout",
     "output_type": "stream",
     "text": [
      "['wood', 'would', 'woodchuck']\n"
     ]
    }
   ],
   "source": [
    "my_text = \"How much wood would a woodchuck chuck\"\n",
    "#spliting the input string text into a list of words using the split() method.\n",
    "words = my_text.split()\n",
    "\n",
    "result = []\n",
    "#using for loop to iterate through the list of words\n",
    "for word in words:\n",
    "    if word[0].lower() == 'w':\n",
    "        result.append(word)\n",
    "\n",
    "print(result)"
   ]
  },
  {
   "cell_type": "markdown",
   "id": "8a44aea0",
   "metadata": {},
   "source": [
    "OR\n",
    "\n",
    "\n",
    "Using List Comprehension"
   ]
  },
  {
   "cell_type": "code",
   "execution_count": 27,
   "id": "202752c0",
   "metadata": {},
   "outputs": [
    {
     "name": "stdout",
     "output_type": "stream",
     "text": [
      "['wood', 'would', 'woodchuck']\n"
     ]
    }
   ],
   "source": [
    "my_text = \"How much wood would a woodchuck chuck\"\n",
    "words = my_text.split()\n",
    "\n",
    "result = [word for word in words if word[0].lower() == 'w']\n",
    "\n",
    "print(result)"
   ]
  },
  {
   "cell_type": "markdown",
   "id": "b635bb64",
   "metadata": {},
   "source": [
    "9. Write a python program to insert 98.9 into an ascending ordered sorted list [187,3,44,23,65.3,50,325,33.4,52.5,98,95] using exhaustive enumeration (2 points)"
   ]
  },
  {
   "cell_type": "code",
   "execution_count": 1,
   "id": "b240d406",
   "metadata": {},
   "outputs": [
    {
     "name": "stdout",
     "output_type": "stream",
     "text": [
      "[3, 23, 33.4, 44, 50, 52.5, 65.3, 95, 98, 187, 325]\n",
      "[3, 23, 33.4, 44, 50, 52.5, 65.3, 95, 98, 98.9, 187, 325]\n"
     ]
    }
   ],
   "source": [
    "# defining a function to sort the numbers in a list\n",
    "def sortNumbers(unsortedList):\n",
    "    sortedList = []\n",
    "    while unsortedList:\n",
    "        minElem = unsortedList[0]\n",
    "        for i in unsortedList:\n",
    "            if i < minElem:\n",
    "                minElem = i\n",
    "        sortedList.append(minElem)\n",
    "        unsortedList.remove(minElem)\n",
    "    return sortedList\n",
    "\n",
    "list1 = [187,3,44,23,65.3,50,325,33.4,52.5,98,95]\n",
    "# calling the function\n",
    "sortedList = sortNumbers(list1)\n",
    "print(sortedList)\n",
    "\n",
    "for i in range(0,len(sortedList)):\n",
    "    if sortedList[i] <=98.9:\n",
    "        continue\n",
    "    sortedList.insert(i,98.9)\n",
    "    break\n",
    "print(sortedList)"
   ]
  },
  {
   "cell_type": "markdown",
   "id": "1599d926",
   "metadata": {},
   "source": [
    "10.Create a list named mylist1 with values [‘x', ‘y', ‘z']. Create another mylist2 with values [‘x', ‘y', ‘z']. Print the object equality and value equality of both the lists. Create both shallow and deep copies of the mylist1. Find and print the object equality between- mylist1 and the shallow copy, as well as between- mylist1 and the deep copy. (2 points)"
   ]
  },
  {
   "cell_type": "code",
   "execution_count": 5,
   "id": "d7777cbc",
   "metadata": {},
   "outputs": [
    {
     "name": "stdout",
     "output_type": "stream",
     "text": [
      "Object equality:  False\n",
      "Value equality:  True\n",
      "Object equality with shallow copy:  False\n",
      "Object equality with deep copy:  False\n"
     ]
    }
   ],
   "source": [
    "mylist1 = ['x', 'y', 'z']\n",
    "mylist2 = ['x', 'y', 'z']\n",
    "\n",
    "#using 'is' operator to check oject equality and '=' to check value equality\n",
    "print(\"Object equality: \", mylist1 is mylist2) # False\n",
    "print(\"Value equality: \", mylist1 == mylist2) # True\n",
    "\n",
    "# Creating a Shallow copy\n",
    "shallow_copy = mylist1.copy()\n",
    "\n",
    "# Creating a Deep copy\n",
    "import copy\n",
    "deep_copy = copy.deepcopy(mylist1)\n",
    "\n",
    "print(\"Object equality with shallow copy: \", mylist1 is shallow_copy) # False\n",
    "print(\"Object equality with deep copy: \", mylist1 is deep_copy) # False"
   ]
  }
 ],
 "metadata": {
  "kernelspec": {
   "display_name": "Python 3 (ipykernel)",
   "language": "python",
   "name": "python3"
  },
  "language_info": {
   "codemirror_mode": {
    "name": "ipython",
    "version": 3
   },
   "file_extension": ".py",
   "mimetype": "text/x-python",
   "name": "python",
   "nbconvert_exporter": "python",
   "pygments_lexer": "ipython3",
   "version": "3.10.6"
  }
 },
 "nbformat": 4,
 "nbformat_minor": 5
}
