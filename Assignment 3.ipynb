{
 "cells": [
  {
   "cell_type": "markdown",
   "id": "a46ddf29",
   "metadata": {},
   "source": [
    "1. Write a Python program that prompts the user to input a key and a dictionary. The program should retrieve the value associated with the given key from the dictionary. handle ValueError, KeyError and NameError by printing related errors. (2 points) "
   ]
  },
  {
   "cell_type": "code",
   "execution_count": 1,
   "id": "2ba9e6f1",
   "metadata": {},
   "outputs": [
    {
     "name": "stdin",
     "output_type": "stream",
     "text": [
      "Please enter a dictionary (e.g. {'a': 1, 'b': 2}):  {'a': 1, 'b': 2}\n",
      "Please enter the key to retrieve its value:  b\n"
     ]
    },
    {
     "name": "stdout",
     "output_type": "stream",
     "text": [
      "The value associated with the key is: 2\n"
     ]
    }
   ],
   "source": [
    "def main():\n",
    "    try:\n",
    "        # Get dictionary from user\n",
    "        user_input = input(\"Please enter a dictionary (e.g. {'a': 1, 'b': 2}): \")\n",
    "        user_dict = eval(user_input)\n",
    "        \n",
    "        # Ensure the user input is a dictionary\n",
    "        if not isinstance(user_dict, dict):\n",
    "            raise ValueError(\"The input is not a valid dictionary.\")\n",
    "        \n",
    "        # Get key from user\n",
    "        key_input = input(\"Please enter the key to retrieve its value: \")\n",
    "        \n",
    "        # Retrieve and print the value\n",
    "        print(\"The value associated with the key is:\", user_dict[key_input])\n",
    "    \n",
    "    except ValueError as ve:\n",
    "        print(f\"ValueError: {ve}\")\n",
    "    except KeyError:\n",
    "        print(f\"KeyError: No value found for the key '{key_input}'.\")\n",
    "    except NameError:\n",
    "        print(\"NameError: Invalid name used. Make sure you're entering a proper dictionary and key.\")\n",
    "\n",
    "if __name__ == \"__main__\":\n",
    "    main()"
   ]
  },
  {
   "cell_type": "markdown",
   "id": "94f5b330",
   "metadata": {},
   "source": [
    "2. Define a class that has a method to add an element to the list, another method to sort the elements in descending order, and a third method to sort in ascending order. Begin with an empty list. Add the numbers 15, 21, 11, 14, 32, and 67 by creating an object of your class and using the add method. Then, print the sorted elements of the list using the respective sorting methods. (2 points)"
   ]
  },
  {
   "cell_type": "code",
   "execution_count": 4,
   "id": "df16338a",
   "metadata": {},
   "outputs": [],
   "source": [
    "class CustomList:\n",
    "    def __init__(self):\n",
    "        self._list = []\n",
    "    \n",
    "    def add_element(self, element):\n",
    "        self._list.append(element)\n",
    "    \n",
    "    def sort_descending(self):\n",
    "        self._list.sort(reverse=True)\n",
    "        return self._list[:]\n",
    "    \n",
    "    def sort_ascending(self):\n",
    "        self._list.sort()\n",
    "        return self._list[:]\n",
    "\n",
    "# Example usage:\n",
    "my_list = CustomList()\n",
    "\n",
    "elements = [15, 21, 11, 14, 32, 67]\n",
    "for elem in elements:\n",
    "    my_list.add_element(elem)\n",
    "\n",
    "descending_sorted_list = my_list.sort_descending()\n",
    "ascending_sorted_list = my_list.sort_ascending()"
   ]
  },
  {
   "cell_type": "markdown",
   "id": "02cee39e",
   "metadata": {},
   "source": [
    "3. Look at the python script given in the link below school_info.py  and list the number of classes and name of the functions (without the constructor) along with its arguments in each class as a comment in the .ipynb file (4 points)"
   ]
  },
  {
   "cell_type": "code",
   "execution_count": null,
   "id": "5c5c5cbe",
   "metadata": {},
   "outputs": [],
   "source": [
    "#!/usr/bin/env python\n",
    "# coding: utf-8\n",
    "\n",
    "# In[ ]:\n",
    "\n",
    "\n",
    "class Person:\n",
    "    def __init__(self, name, age):\n",
    "        self.name = name\n",
    "        self.age = age\n",
    "\n",
    "    def display_info(self):\n",
    "        print(f\"Name: {self.name}\")\n",
    "        print(f\"Age: {self.age}\")\n",
    "\n",
    "class Student(Person):\n",
    "    def __init__(self, name, age, grade):\n",
    "        super().__init__(name, age)\n",
    "        self.grade = grade\n",
    "\n",
    "    def display_info(self):\n",
    "        super().display_info()\n",
    "        print(f\"Grade: {self.grade}\")\n",
    "\n",
    "class Teacher(Person):\n",
    "    def __init__(self, name, age, subject):\n",
    "        super().__init__(name, age)\n",
    "        self.subject = subject\n",
    "\n",
    "    def display_info(self):\n",
    "        super().display_info()\n",
    "        print(f\"Subject: {self.subject}\")\n",
    "\n",
    "class Principal(Teacher):\n",
    "    def __init__(self, name, age, subject, school):\n",
    "        super().__init__(name, age, subject)\n",
    "        self.school = school\n",
    "\n",
    "    def display_info(self):\n",
    "        super().display_info()\n",
    "        print(f\"School: {self.school}\")"
   ]
  },
  {
   "cell_type": "markdown",
   "id": "18721676",
   "metadata": {},
   "source": [
    "#There are 4 classes in the given Python script: Person, Student, Teacher, Principal\n",
    "\n",
    "#Names of Functions and its arguments for each class are as below:\n",
    "Person class: display_info() with no arguments\n",
    "Student class: display_info() with no arguments\n",
    "Teacher class: display_info() with no arguments\n",
    "Principal class: display_info() with no arguments\n",
    "\n",
    "All classes have a constructor that takes in name and age as arguments, and additional arguments for the subclasses (grade for Student, subject for Teacher, and subject and school for Principal). The Principal class also has a display_info() function that displays the principal's name, age, subject, and school."
   ]
  },
  {
   "cell_type": "markdown",
   "id": "00f1308f",
   "metadata": {},
   "source": [
    "4. Draw a diagram to show the hierarchy of the classes in the file school_info.py,  and submit the answer as a .docx or .pdf file (3 points)"
   ]
  },
  {
   "cell_type": "markdown",
   "id": "6aba6b0f",
   "metadata": {},
   "source": [
    "              Person\n",
    "             |     |\n",
    "       Student     Teacher\n",
    "                      |   \n",
    "                    Principal\n"
   ]
  },
  {
   "cell_type": "markdown",
   "id": "e1c32f23",
   "metadata": {},
   "source": [
    "The Person class is at the top of the hierarchy and serves as a base class for the other classes. \n",
    "In this hierarchy, Student and Teacher are at the same level, as they are both direct subclasses of Person. Student and Teacher inherit the attributes and methods of Person\n",
    "\n",
    "Principal is a subclass of Teacher and is lower in the hierarchy than Student and Teacher. Principal inherits the attributes and methods of Teacher. \n",
    "\n",
    "Each subclass has additional attributes and/or methods that are specific to that subclass."
   ]
  },
  {
   "cell_type": "markdown",
   "id": "5a8262ba",
   "metadata": {},
   "source": [
    "5. Create a class with a constructor that takes a list as input and calculates the sum of all the values in the list. Instantiate this class by passing a list with 10 integers. Add a breakpoint inside the constructor such that the interactive console of PDB can be used to look at the values of the addition after each item in the list is calculated. No need to post if you used the PDB console or not (3 points)."
   ]
  },
  {
   "cell_type": "code",
   "execution_count": null,
   "id": "384ae88c",
   "metadata": {},
   "outputs": [
    {
     "name": "stdout",
     "output_type": "stream",
     "text": [
      "> \u001b[0;32m/tmp/ipykernel_510027/1747361959.py\u001b[0m(7)\u001b[0;36m__init__\u001b[0;34m()\u001b[0m\n",
      "\u001b[0;32m      5 \u001b[0;31m        \u001b[0mself\u001b[0m\u001b[0;34m.\u001b[0m\u001b[0mlst\u001b[0m \u001b[0;34m=\u001b[0m \u001b[0mmy_list\u001b[0m\u001b[0;34m\u001b[0m\u001b[0;34m\u001b[0m\u001b[0m\n",
      "\u001b[0m\u001b[0;32m      6 \u001b[0;31m        \u001b[0mself\u001b[0m\u001b[0;34m.\u001b[0m\u001b[0mtotal\u001b[0m \u001b[0;34m=\u001b[0m \u001b[0;36m0\u001b[0m\u001b[0;34m\u001b[0m\u001b[0;34m\u001b[0m\u001b[0m\n",
      "\u001b[0m\u001b[0;32m----> 7 \u001b[0;31m        \u001b[0;32mfor\u001b[0m \u001b[0mnum\u001b[0m \u001b[0;32min\u001b[0m \u001b[0mself\u001b[0m\u001b[0;34m.\u001b[0m\u001b[0mlst\u001b[0m\u001b[0;34m:\u001b[0m\u001b[0;34m\u001b[0m\u001b[0;34m\u001b[0m\u001b[0m\n",
      "\u001b[0m\u001b[0;32m      8 \u001b[0;31m            \u001b[0mself\u001b[0m\u001b[0;34m.\u001b[0m\u001b[0mtotal\u001b[0m \u001b[0;34m+=\u001b[0m \u001b[0mnum\u001b[0m\u001b[0;34m\u001b[0m\u001b[0;34m\u001b[0m\u001b[0m\n",
      "\u001b[0m\u001b[0;32m      9 \u001b[0;31m            \u001b[0mpdb\u001b[0m\u001b[0;34m.\u001b[0m\u001b[0mset_trace\u001b[0m\u001b[0;34m(\u001b[0m\u001b[0;34m)\u001b[0m\u001b[0;34m\u001b[0m\u001b[0;34m\u001b[0m\u001b[0m\n",
      "\u001b[0m\n"
     ]
    }
   ],
   "source": [
    "import pdb\n",
    "\n",
    "class ListAdder:\n",
    "    def __init__(self, my_list):\n",
    "        self.lst = my_list\n",
    "        self.total = 0\n",
    "        for num in self.lst:\n",
    "            self.total += num\n",
    "            pdb.set_trace()\n",
    "\n",
    "my_list = [1, 2, 3, 4, 5, 6, 7, 8, 9, 10]\n",
    "list_adder = ListAdder(my_list)"
   ]
  },
  {
   "cell_type": "markdown",
   "id": "bc3752c4",
   "metadata": {},
   "source": [
    "The constructor calls the pdb.set trace() method, which stops the program and enables code debugging. The PDB console will be launched and the code execution will pause when it reaches the pdb.set trace() method.\n",
    "\n",
    "We can then use the PDB console to inspect the value of self.total by typing p self.total and pressing Enter. This will print the current value of self.total at the current breakpoint. We can then continue the code execution by typing c and pressing Enter"
   ]
  },
  {
   "attachments": {},
   "cell_type": "markdown",
   "id": "6cb0304c",
   "metadata": {},
   "source": [
    "6. Implement the class hierarchy shown below in a Python program: (6 points).\n",
    "**Use the given figure to create Cricket as the abstract base class with an abstract method called details(). Define the abstract method details() in each of the subclasses with appropriate arguments, definitions, and return values. \n",
    "\n",
    "**Implement the subclasses Matches, Teams, Skills and Equipments that use appropriate types and return values by inheriting methods from their respective classes. For the mentioned subclasses, include subclass-specific methods of your own choice. \n",
    "\n",
    "**Write code that creates objects of all subclasses and uses the methods to print, by passing any values of your choice\n"
   ]
  },
  {
   "cell_type": "code",
   "execution_count": 25,
   "id": "692191c8",
   "metadata": {},
   "outputs": [],
   "source": [
    "from abc import ABC, abstractmethod\n",
    "\n",
    "# Define the abstract base class Cricket with an abstract method details()\n",
    "class Cricket(ABC):\n",
    "    @abstractmethod\n",
    "    def details(self):\n",
    "        pass\n",
    "\n",
    "# Define the Matches subclass with a details() method\n",
    "class Matches(Cricket):\n",
    "    def __init__(self, match_type, teams):\n",
    "        self.match_type = match_type\n",
    "        self.teams = teams\n",
    "\n",
    "    def details(self):\n",
    "        return f\"{self.match_type} match between {self.teams}\"\n",
    "\n",
    "    def cricket_score(self):\n",
    "        return \"Score for the match\"\n",
    "\n",
    "# Define the Teams subclass with a details() method\n",
    "class Teams(Cricket):\n",
    "    def __init__(self, team_name, players):\n",
    "        self.team_name = team_name\n",
    "        self.players = players\n",
    "\n",
    "    def details(self):\n",
    "        return f\"{self.team_name} with players: {', '.join(self.players)}\"\n",
    "\n",
    "    def captain(self):\n",
    "        return \"Name of the captain for the team\"\n",
    "\n",
    "# Define the Skills subclass with a details() method\n",
    "class Skills(Cricket):\n",
    "    def __init__(self, player_name, skill_type, skill_level):\n",
    "        self.player_name = player_name\n",
    "        self.skill_type = skill_type\n",
    "        self.skill_level = skill_level\n",
    "\n",
    "    def details(self):\n",
    "        return f\"{self.player_name} has {self.skill_level} level of {self.skill_type} skill\"\n",
    "\n",
    "    def skill_accuracy(self):\n",
    "        return \"Practice drills for the skill accuracy\"\n",
    "\n",
    "# Define the Equipments subclass with a details() method\n",
    "class Equipments(Cricket):\n",
    "    def __init__(self, equipment_type, brand):\n",
    "        self.equipment_type = equipment_type\n",
    "        self.brand = brand\n",
    "\n",
    "    def details(self):\n",
    "        return f\"{self.equipment_type} from {self.brand}\"\n",
    "\n",
    "    def equipment_brand(self):\n",
    "        return \"Brand of new equipment\"\n",
    "\n",
    "# Define the T20 subclass which is a subclass of Matches\n",
    "class T20(Matches):\n",
    "    def __init__(self, teams):\n",
    "        super().__init__(\"T20\", teams)\n",
    "\n",
    "# Define the Test subclass which is a subclass of Matches\n",
    "class Test(Matches):\n",
    "    def __init__(self, teams):\n",
    "        super().__init__(\"Test\", teams)\n",
    "\n",
    "# Define the National subclass which is a subclass of Teams\n",
    "class National(Teams):\n",
    "    def __init__(self, team_name, players):\n",
    "        super().__init__(f\"National team - {team_name}\", players)\n",
    "\n",
    "# Define the Domestic subclass which is a subclass of Teams\n",
    "class Domestic(Teams):\n",
    "    def __init__(self, team_name, players):\n",
    "        super().__init__(f\"Domestic team - {team_name}\", players)\n",
    "\n",
    "# Define the Batting subclass which is a subclass of Skills\n",
    "class Batting(Skills):\n",
    "    def __init__(self, player_name, skill_level):\n",
    "        super().__init__(player_name, \"batting\", skill_level)\n",
    "\n",
    "# Define the Fielding subclass which is a subclass of Skills\n",
    "class Fielding(Skills):\n",
    "    def __init__(self, player_name, skill_level):\n",
    "        super().__init__(player_name, \"fielding\", skill_level)\n",
    "\n",
    "# Define the Bowling subclass which is a subclass of Skills\n",
    "class Bowling(Skills):\n",
    "    def __init__(self, player_name, skill_level):\n",
    "        super().__init__(player_name, \"bowling\", skill_level)\n",
    "\n",
    "# Define the Bat subclass which is a subclass of Equipments\n",
    "class Bat(Equipments):\n",
    "    def __init__(self, brand):\n",
    "        super().__init__(\"Bat\", brand)\n",
    "\n",
    "# Define the Ball subclass which is a subclass of Equipments\n",
    "class Ball(Equipments):\n",
    "    def __init__(self, brand):\n",
    "        super().__init__(\"Ball\", brand)\n",
    "\n",
    "# Define the Gloves subclass which is a subclass of Equipments\n",
    "class Ball(Equipments):\n",
    "    def __init__(self, brand):\n",
    "        super().__init__(\"Gloves\", brand)"
   ]
  }
 ],
 "metadata": {
  "kernelspec": {
   "display_name": "Python 3 (ipykernel)",
   "language": "python",
   "name": "python3"
  },
  "language_info": {
   "codemirror_mode": {
    "name": "ipython",
    "version": 3
   },
   "file_extension": ".py",
   "mimetype": "text/x-python",
   "name": "python",
   "nbconvert_exporter": "python",
   "pygments_lexer": "ipython3",
   "version": "3.10.12"
  }
 },
 "nbformat": 4,
 "nbformat_minor": 5
}
